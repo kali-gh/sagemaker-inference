{
 "cells": [
  {
   "cell_type": "code",
   "execution_count": null,
   "metadata": {},
   "outputs": [],
   "source": [
    "import sagemaker\n",
    "import json\n",
    "from sagemaker.model import Model\n",
    "from sagemaker.predictor import RealTimePredictor\n",
    "\n",
    "role = sagemaker.get_execution_role()\n",
    "\n",
    "model = Model(\n",
    "    name = 'my-model'\n",
    "    , image_uri = 'abcdef.dkr.ecr.us-east-1.amazonaws.com/myimage:mytag'\n",
    "    , model_data = 's3://<model_location>/model.tar.gz'\n",
    "    , role = role\n",
    ")\n",
    "model.deploy( instance_type='ml.m5.xlarge',  initial_instance_count=1)\n"
   ]
  },
  {
   "cell_type": "code",
   "execution_count": null,
   "metadata": {},
   "outputs": [],
   "source": [
    "payload = json.dumps({'hi': 'world'})\n",
    "endpoint = \"<endpoint name here>\"\n",
    "\n",
    "predictor=RealTimePredictor(endpoint_name=endpoint, content_type='application/json')\n",
    "out = predictor.predict(data=payload)"
   ]
  }
 ],
 "metadata": {
  "language_info": {
   "name": "python"
  }
 },
 "nbformat": 4,
 "nbformat_minor": 2
}
